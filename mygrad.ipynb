{
 "cells": [
  {
   "cell_type": "code",
   "execution_count": 1,
   "id": "198b93b7-7a94-49f4-8145-f8ba05963f4d",
   "metadata": {},
   "outputs": [],
   "source": [
    "import math\n",
    "import random\n",
    "import matplotlib.pyplot as plt\n",
    "\n",
    "class Value:\n",
    "    def __init__(self, data, label = \"\"):\n",
    "        self.value = data\n",
    "        self.grad = 0.0\n",
    "        self.children = []\n",
    "        self.setGrad = lambda : None\n",
    "        self.label = label\n",
    "\n",
    "\n",
    "    # Add function\n",
    "\n",
    "    def __add__(self, other):\n",
    "        if not isinstance(other, Value):\n",
    "            other = Value(other)            \n",
    "        out = Value(self.value + other.value)\n",
    "        \n",
    "        def setGrad():\n",
    "            self.grad += out.grad\n",
    "            other.grad += out.grad\n",
    "            \n",
    "        out.setGrad = setGrad\n",
    "        out.children.extend([self, other])\n",
    "        return out\n",
    "\n",
    "    def __radd__(self, other):\n",
    "        return self.__add__(other)\n",
    "\n",
    "\n",
    "    # Mull function\n",
    "\n",
    "    def __mul__(self, other):\n",
    "        if not isinstance(other, Value):\n",
    "            other = Value(other)            \n",
    "        out = Value(self.value * other.value)\n",
    "        \n",
    "        def setGrad():\n",
    "            self.grad += out.grad * other.value\n",
    "            other.grad += out.grad * self.value\n",
    "            \n",
    "        out.setGrad = setGrad\n",
    "        out.children.extend([self, other])\n",
    "        return out\n",
    "\n",
    "    def __rmul__(self, other):\n",
    "        return self.__mul__(other)\n",
    "\n",
    "\n",
    "    # Tanh function\n",
    "\n",
    "    def tanh(self):\n",
    "        x = self.value\n",
    "        t = (math.exp(2*x) - 1)/(math.exp(2*x) + 1)\n",
    "        out = Value(t)\n",
    "    \n",
    "        def setGrad():\n",
    "            self.grad += (1 - t**2) * out.grad\n",
    "\n",
    "        out.setGrad = setGrad\n",
    "        out.children.extend([self])\n",
    "        return out\n",
    "\n",
    "    # Pow operation\n",
    "\n",
    "    def __pow__(self, other):\n",
    "        assert isinstance(other, (int, float)), \"only supporting int/float powers for now\"\n",
    "        out = Value(self.value**other)\n",
    "\n",
    "        def setGrad():\n",
    "            self.grad += other * (self.value ** (other - 1)) * out.grad\n",
    "\n",
    "        out.setGrad = setGrad\n",
    "        out.children.extend([self])\n",
    "\n",
    "        return out\n",
    "\n",
    "    def __truediv__(self, other): # self / other\n",
    "        return self * other**-1\n",
    "\n",
    "    def __neg__(self): # -self\n",
    "        return self * -1\n",
    "\n",
    "    def __sub__(self, other): # self - other\n",
    "        return self + (-other)\n",
    "\n",
    "    def __rsub__(self, other):\n",
    "        return self.__sub__(other)\n",
    "    \n",
    "    def __repr__(self):\n",
    "        return f\"{self.label} {self.value} : {self.grad}\"\n",
    "\n",
    "    def _backprop(self):\n",
    "        self.setGrad()\n",
    "        for c in self.children:\n",
    "            c._backprop()\n",
    "\n",
    "    def backprop(self):\n",
    "        self.grad = 1.0\n",
    "        self._backprop()\n",
    "\n",
    "    def Zero(self):\n",
    "        self.grad = 0.0\n",
    "        for c in self.children:\n",
    "            c.Zero()\n",
    "\n",
    "\n",
    "class Neuron:\n",
    "    def __init__(self, nin):\n",
    "        self.w = [Value(random.uniform(-1,1)) for i in range(nin)]\n",
    "        self.b = Value(random.uniform(-1,1))\n",
    "\n",
    "    def __call__(self, x):\n",
    "        out = self.b\n",
    "        for xi, wi in zip(x, self.w):\n",
    "            out += xi * wi\n",
    "        out = out.tanh()\n",
    "        return out\n",
    "\n",
    "    def params(self):\n",
    "        return self.w + [self.b]\n",
    "\n",
    "class Layer:\n",
    "    def __init__(self, nin, nout):\n",
    "        self.neurons = [Neuron(nin) for i in range(nout)]\n",
    "\n",
    "    def __call__(self, x):\n",
    "        out = [n(x) for n in self.neurons]\n",
    "        return out[0] if len(out) == 1 else out\n",
    "\n",
    "    def params(self):\n",
    "        return [p for neuron in self.neurons for p in neuron.params()]\n",
    "\n",
    "\n",
    "class Net:\n",
    "    def __init__(self, sizes):\n",
    "        self.layers = [Layer(sizes[i], sizes[i+1]) for i in range(len(sizes)-1)]\n",
    "\n",
    "    def __call__(self, x):\n",
    "        for layer in self.layers:\n",
    "            x = layer(x)\n",
    "        return x\n",
    "    \n",
    "    def params(self):\n",
    "        return [p for layer in self.layers for p in layer.params()]"
   ]
  },
  {
   "cell_type": "code",
   "execution_count": 10,
   "id": "691a8cca-ad6e-4935-aa82-d6d777b63c3f",
   "metadata": {},
   "outputs": [],
   "source": [
    "a = Value(-1, \"a\")\n",
    "b = Value(1, \"b\")\n",
    "c =  a * b\n",
    "c.label = \"c\"\n",
    "d = c.tanh()\n",
    "d.label = \"d\""
   ]
  },
  {
   "cell_type": "code",
   "execution_count": 11,
   "id": "ea62cc8d-fa88-4d7a-9465-e98a77f76b01",
   "metadata": {},
   "outputs": [
    {
     "name": "stdout",
     "output_type": "stream",
     "text": [
      "a -1 : 0.0\n",
      "b 1 : 0.0\n",
      "c -1 : 0.0\n",
      "d -0.7615941559557649 : 0.0\n"
     ]
    }
   ],
   "source": [
    "print(a)\n",
    "print(b)\n",
    "print(c)\n",
    "print(d)"
   ]
  },
  {
   "cell_type": "code",
   "execution_count": 12,
   "id": "2dc87471-54c1-43dc-b743-1b74ef47ff41",
   "metadata": {},
   "outputs": [
    {
     "name": "stdout",
     "output_type": "stream",
     "text": [
      "back prop d\n",
      "back tanh\n",
      "back prop c\n",
      "back mul\n",
      "back prop a\n",
      "back prop b\n"
     ]
    }
   ],
   "source": [
    "d.backprop()"
   ]
  },
  {
   "cell_type": "code",
   "execution_count": 84,
   "id": "f3d32300-341d-42ec-bb28-f316b226b8fd",
   "metadata": {},
   "outputs": [
    {
     "data": {
      "text/plain": [
       " 0.9754498860112863 : 0.0"
      ]
     },
     "execution_count": 84,
     "metadata": {},
     "output_type": "execute_result"
    }
   ],
   "source": [
    "n = Neuron(3)\n",
    "n([1.0, 2.0, 3.0])"
   ]
  },
  {
   "cell_type": "code",
   "execution_count": 3,
   "id": "ac7ca55d-3d76-4426-a775-460a12e36f37",
   "metadata": {},
   "outputs": [],
   "source": [
    "# Features/Inputs\n",
    "xs = [\n",
    "  [2.0, 3.0, -1.0],\n",
    "  [3.0, -1.0, 0.5],\n",
    "  [0.5, 1.0, 1.0],\n",
    "  [1.0, 1.0, -1.0],\n",
    "]\n",
    "\n",
    "# Desired targets\n",
    "ys = [1.0, -1.0, -1.0, 1.0]\n",
    "\n",
    "N = Net([3, 4, 4, 1])\n",
    "losses = []"
   ]
  },
  {
   "cell_type": "code",
   "execution_count": 4,
   "id": "a73112bf-b98b-4352-9c1b-63d18c4661b5",
   "metadata": {},
   "outputs": [],
   "source": [
    "for _ in range(1000):\n",
    "    ypred = [N(xi) for xi in xs]\n",
    "    loss = sum((ysi - ypredi)**2 for ysi, ypredi in zip(ys, ypred))\n",
    "    #print(loss)\n",
    "    losses.append(loss.value)\n",
    "\n",
    "    loss.Zero()\n",
    "    loss.backprop()\n",
    "    \n",
    "    for p in N.params():\n",
    "        p.value += -0.01 * p.grad"
   ]
  },
  {
   "cell_type": "code",
   "execution_count": 5,
   "id": "ddbacb37-e986-4fd7-9716-1914e934b9c0",
   "metadata": {},
   "outputs": [
    {
     "data": {
      "image/png": "[encoded data removed]",
      "text/plain": [
       "<Figure size 640x480 with 1 Axes>"
      ]
     },
     "metadata": {},
     "output_type": "display_data"
    }
   ],
   "source": [
    "# Crear una gráfica de línea\n",
    "plt.plot(losses)\n",
    "# Mostrar la gráfica\n",
    "plt.show()"
   ]
  },
  {
   "cell_type": "code",
   "execution_count": 169,
   "id": "d67bd900-202b-4e6b-966f-70464e1913bd",
   "metadata": {},
   "outputs": [
    {
     "data": {
      "text/plain": [
       "0.0032560065361072277"
      ]
     },
     "execution_count": 169,
     "metadata": {},
     "output_type": "execute_result"
    }
   ],
   "source": [
    "losses[999]"
   ]
  },
  {
   "cell_type": "code",
   "execution_count": null,
   "id": "429e2162-987a-413d-a06e-eb91a180e8f7",
   "metadata": {},
   "outputs": [],
   "source": []
  }
 ],
 "metadata": {
  "kernelspec": {
   "display_name": "Python 3 (ipykernel)",
   "language": "python",
   "name": "python3"
  },
  "language_info": {
   "codemirror_mode": {
    "name": "ipython",
    "version": 3
   },
   "file_extension": ".py",
   "mimetype": "text/x-python",
   "name": "python",
   "nbconvert_exporter": "python",
   "pygments_lexer": "ipython3",
   "version": "3.10.12"
  }
 },
 "nbformat": 4,
 "nbformat_minor": 5
}
